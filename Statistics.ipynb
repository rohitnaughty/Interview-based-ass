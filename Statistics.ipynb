{
 "cells": [
  {
   "cell_type": "markdown",
   "id": "6bc882c7-56c0-495e-8845-bd8a75cf6153",
   "metadata": {},
   "source": [
    "Q-1. A university wants to understand the relationship between the SAT scores of its applicants and their college GPA. They collect data on 500 students, including their SAT scores (out of 1600) and their college GPA (on a 4.0 scale). They find that the correlation coefficient between SAT scores and college GPA is 0.7. What does this correlation coefficient indicate about the relationship between SAT scores and college GPA?"
   ]
  },
  {
   "cell_type": "markdown",
   "id": "b754231e-0476-4c4b-afa9-fa83c79a38a8",
   "metadata": {},
   "source": [
    "Ans: A correlation coefficient of 0.7 indicates a strong positive relationship between SAT scores and college GPA. The correlation coefficient ranges from -1 to 1, where 1 represents a perfect positive relationship, 0 represents no relationship, and -1 represents a perfect negative relationship. In this case, the correlation coefficient of 0.7 suggests a strong positive association, indicating that higher SAT scores are generally associated with higher college GPAs.\n",
    "\n",
    "It's important to note that correlation does not imply causation. While the correlation coefficient indicates a relationship between SAT scores and college GPA, it does not establish a cause-and-effect relationship. Other factors, such as study habits, motivation, and personal circumstances, can also influence college GPA and should be considered when interpreting the results."
   ]
  },
  {
   "cell_type": "markdown",
   "id": "928fe181-e851-4813-ac42-aaabe7625dea",
   "metadata": {},
   "source": [
    "Q-2. Consider a dataset containing the heights (in centimeters) of 1000 individuals. The mean height is 170 cm with a standard deviation of 10 cm. The dataset is approximately normally distributed, and its skewness is approximately zero. Based on this information, answer the following questions: a. What percentage of individuals in the dataset have heights between 160 cm and 180 cm? b. If we randomly select 100 individuals from the dataset, what is the probability that their average height is greater than 175 cm? c. Assuming the dataset follows a normal distribution, what is the z-score corresponding to a height of 185 cm? d. We know that 5% of the dataset has heights below a certain value. What is the approximate height corresponding to this threshold? e. Calculate the coefficient of variation (CV) for the dataset. f. Calculate the skewness of the dataset and interpret the result."
   ]
  },
  {
   "cell_type": "markdown",
   "id": "feec4ace-0039-4e2f-8e16-3d1471ae87e5",
   "metadata": {},
   "source": [
    "Ans: a. To determine the percentage of individuals in the dataset with heights between 160 cm and 180 cm, we can use the properties of the normal distribution.\n",
    "\n",
    "Since the mean height is 170 cm and the standard deviation is 10 cm, we can calculate the z-scores for both heights using the formula: z = (x - μ) / σ, where x is the height, μ is the mean, and σ is the standard deviation.\n",
    "\n",
    "For 160 cm: z1 = (160 - 170) / 10 = -1\n",
    "\n",
    "For 180 cm: z2 = (180 - 170) / 10 = 1\n",
    "\n",
    "Using a standard normal distribution table or a statistical software, we can find the area under the curve between z = -1 and z = 1, which represents the percentage of individuals with heights between 160 cm and 180 cm.\n",
    "\n",
    "The area between z = -1 and z = 1 is approximately 0.6826 or 68.26%. Therefore, approximately 68.26% of individuals in the dataset have heights between 160 cm and 180 cm.\n",
    "\n",
    "b. To calculate the probability that the average height of a randomly selected group of 100 individuals is greater than 175 cm, we can use the Central Limit Theorem. The Central Limit Theorem states that the distribution of sample means approaches a normal distribution with a mean equal to the population mean and a standard deviation equal to the population standard deviation divided by the square root of the sample size.\n",
    "\n",
    "The standard deviation of the sample means is calculated as σ / sqrt(n), where σ is the population standard deviation and n is the sample size.\n",
    "\n",
    "In this case, the population standard deviation is 10 cm, and the sample size is 100.\n",
    "\n",
    "Standard deviation of the sample means = 10 / sqrt(100) = 10 / 10 = 1\n",
    "\n",
    "Now, we can calculate the z-score for a height of 175 cm using the formula: z = (x - μ) / σ, where x is the height, μ is the mean, and σ is the standard deviation.\n",
    "\n",
    "z = (175 - 170) / 1 = 5\n",
    "\n",
    "Using a standard normal distribution table or a statistical software, we can find the area to the right of z = 5, which represents the probability that the average height is greater than 175 cm.\n",
    "\n",
    "The area to the right of z = 5 is very close to 0. Therefore, the probability that the average height of a randomly selected group of 100 individuals is greater than 175 cm is nearly 0.\n",
    "c. To calculate the z-score corresponding to a height of 185 cm, we can use the formula: z = (x - μ) / σ, where x is the height, μ is the mean, and σ is the standard deviation.\n",
    "\n",
    "z = (185 - 170) / 10 = 15 / 10 = 1.5\n",
    "\n",
    "Therefore, the z-score corresponding to a height of 185 cm is 1.5.\n",
    "\n",
    "d. To find the approximate height corresponding to the threshold where 5% of the dataset has heights below that value, we need to find the z-score that corresponds to the 5th percentile.\n",
    "\n",
    "Using a standard normal distribution table or a statistical software, we can find the z-score that corresponds to the 5th percentile. In this case, the z-score is approximately -1.645.\n",
    "\n",
    "Now, we can calculate the height corresponding to this z-score using the formula: x = μ + z * σ, where x is the height, μ is the mean, z is the z-score, and σ is the standard deviation.\n",
    "\n",
    "x = 170 + (-1.645) * 10 = 170 -"
   ]
  },
  {
   "cell_type": "code",
   "execution_count": null,
   "id": "0cb7987b-ad40-4cbf-aff7-a1f5598639d5",
   "metadata": {},
   "outputs": [],
   "source": [
    "import scipy.stats as stats\n",
    "\n",
    "# Given values\n",
    "mean_height = 170\n",
    "std_dev = 10\n",
    "\n",
    "# a. Percentage of individuals with heights between 160 cm and 180 cm\n",
    "z1 = (160 - mean_height) / std_dev\n",
    "z2 = (180 - mean_height) / std_dev\n",
    "percentage_between = stats.norm.cdf(z2) - stats.norm.cdf(z1)\n",
    "percentage_between *= 100\n",
    "\n",
    "print(f\"Percentage of individuals with heights between 160 cm and 180 cm: {percentage_between:.2f}%\")\n",
    "\n",
    "# b. Probability that the average height of 100 individuals is greater than 175 cm\n",
    "sample_size = 100\n",
    "sample_mean_std_dev = std_dev / (sample_size ** 0.5)\n",
    "z_score = (175 - mean_height) / sample_mean_std_dev\n",
    "probability_greater = 1 - stats.norm.cdf(z_score)\n",
    "print(f\"Probability that the average height of 100 individuals is greater than 175 cm: {probability_greater:.4f}\")\n",
    "\n",
    "# c. Z-score corresponding to a height of 185 cm\n",
    "height = 185\n",
    "z_score = (height - mean_height) / std_dev\n",
    "\n",
    "print(f\"Z-score corresponding to a height of 185 cm: {z_score:.2f}\")\n",
    "\n",
    "# d. Approximate height corresponding to the threshold where 5% of the dataset has heights below that value\n",
    "percentile = 0.05\n",
    "threshold = stats.norm.ppf(percentile, mean_height, std_dev)\n",
    "\n",
    "print(f\"Approximate height corresponding to the 5th percentile: {threshold:.2f}\")\n",
    "\n",
    "# e. Coefficient of variation (CV) for the dataset\n",
    "cv = (std_dev / mean_height) * 100\n",
    "\n",
    "print(f\"Coefficient of variation (CV) for the dataset: {cv:.2f}%\")\n",
    "\n",
    "# f. Skewness of the dataset\n",
    "skewness = 0  # Given that the skewness is approximately zero for the dataset\n",
    "\n",
    "print(f\"Skewness of the dataset: {skewness}\")"
   ]
  },
  {
   "cell_type": "markdown",
   "id": "61e783a0-2613-412a-bb26-528b795405dc",
   "metadata": {},
   "source": [
    "Q-3. Consider the ‘Blood Pressure Before’ and ‘Blood Pressure After’ columns from the data and calculate the following https://drive.google.com/file/d/1mCjtYHiX--mMUjicuaP2gH3k-SnFxt8Y/view?usp=share_ a. Measure the dispersion in both and interpret the results. b. Calculate mean and 5% confidence interval and plot it in a graph c. Calculate the Mean absolute deviation and Standard deviation and interpret the results. d. Calculate the correlation coefficient and check the significance of it at 1% level of significance."
   ]
  },
  {
   "cell_type": "code",
   "execution_count": null,
   "id": "48888c10-dae8-432f-a1e9-590087381baa",
   "metadata": {},
   "outputs": [],
   "source": [
    "import pandas as pd\n",
    "import matplotlib.pyplot as plt\n",
    "\n",
    "data = pd.read_csv(\"data.csv\")\n",
    "data.columns = [\"Patient ID\",\"Blood Pressure Before\",\"Blood Pressure After\"]\n",
    "data.drop(\"Patient ID\",axis=1,inplace=True)"
   ]
  },
  {
   "cell_type": "code",
   "execution_count": null,
   "id": "c536b841-78bc-4dea-9021-4781d8a2c391",
   "metadata": {},
   "outputs": [],
   "source": [
    "#b. Calculate mean and 5% confidence interval and plot it in a graph\n",
    "# Calculate mean\n",
    "mean = np.mean(data)\n",
    "\n",
    "# Calculate 5% confidence interval\n",
    "confidence_interval = stats.t.interval(0.95, len(data) - 1, loc=np.mean(data), scale=stats.sem(data))\n",
    "\n",
    "# Plotting the mean and confidence interval\n",
    "plt.figure(figsize=(8, 6))\n",
    "plt.hist(data, bins=30, alpha=0.5)\n",
    "# plt.axvline(mean, color='r', linestyle='--', label='Mean')\n",
    "#plt.axvline(confidence_interval[0], color='g', linestyle='--', label='95% Confidence Interval')\n",
    "#plt.axvline(confidence_interval[1], color='g', linestyle='--')\n",
    "plt.xlabel('Height (cm)')\n",
    "plt.ylabel('Frequency')\n",
    "plt.title('Distribution with Mean and 95% Confidence Interval')\n",
    "plt.legend()\n",
    "plt.show()\n",
    "\n",
    "print(f\"Mean data: {mean_height:.2f}\")\n",
    "print(f\"Confidence Interval (95%): {confidence_interval}\")"
   ]
  },
  {
   "cell_type": "code",
   "execution_count": null,
   "id": "c51c195d-08fa-4203-abe0-4c46b989fe88",
   "metadata": {},
   "outputs": [],
   "source": [
    "#c. Calculate the Mean absolute deviation and Standard deviation and interpretthe results\n",
    "c= np.mean(np.abs(data-np.mean(data)))\n",
    "sd = np.std(data)\n",
    "print(c)\n",
    "print(\"*\"*50)\n",
    "print(sd)"
   ]
  },
  {
   "cell_type": "code",
   "execution_count": null,
   "id": "64aa4387-2154-48c9-a5bf-6ebfd57170ae",
   "metadata": {},
   "outputs": [],
   "source": [
    "#d. Calculate the correlation coefficient and check the significance of it at 1% levelof significance.\n",
    "\n",
    "import scipy.stats as stats\n",
    "\n",
    "# Given datasets\n",
    "x = data[\"Blood Pressure Before\"]  \n",
    "y = data[\"Blood Pressure After\"]\n",
    "\n",
    "# Calculate correlation coefficient\n",
    "corr_coef, p_value = stats.pearsonr(x, y)\n",
    "\n",
    "print(f\"Correlation Coefficient: {corr_coef:.2f}\")\n",
    "print(f\"p-value: {p_value:.4f}\")\n",
    "\n",
    "# Check significance at 1% level of significance\n",
    "if p_value < 0.01:\n",
    "    print(\"The correlation coefficient is statistically significant at the 1% level of significance.\")\n",
    "else:\n",
    "    print(\"The correlation coefficient is not statistically significant at the 1% level of significance.\")"
   ]
  },
  {
   "cell_type": "markdown",
   "id": "fda4043a-e235-4803-87e6-190c44a624ea",
   "metadata": {},
   "source": [
    "Q-4. A group of 20 friends decide to play a game in which they each write a number between 1 and 20 on a slip of paper and put it into a hat. They then draw one slip of paper at random. What is the probability that the number on the slip of paper is a perfect square (i.e., 1, 4, 9, or 16)"
   ]
  },
  {
   "cell_type": "code",
   "execution_count": null,
   "id": "4c3bcf43-3284-4cc0-90fa-303b02cfbd12",
   "metadata": {},
   "outputs": [],
   "source": [
    "# Number of favorable outcomes (perfect squares)\n",
    "favorable_outcomes = 4\n",
    "\n",
    "# Total number of possible outcomes\n",
    "total_outcomes = 20\n",
    "\n",
    "# Calculate the probability\n",
    "probability = favorable_outcomes / total_outcomes\n",
    "\n",
    "# Display the result\n",
    "print(f\"The probability of drawing a perfect square number is: {probability:.2f}\")"
   ]
  },
  {
   "cell_type": "markdown",
   "id": "d1e201af-4af8-484a-ae98-14892d605172",
   "metadata": {},
   "source": [
    "Q-5. A certain city has two taxi companies: Company A has 80% of the taxis and Company B has 20% of the taxis. Company A's taxis have a 95% success rate for picking up passengers on time, while Company B's taxis have a 90% success rate. If a randomly selected taxi is late, what is the probability that it belongs to Company A?"
   ]
  },
  {
   "cell_type": "code",
   "execution_count": null,
   "id": "6e3c6fdd-84d4-4d90-a1e0-978a7e519fb8",
   "metadata": {},
   "outputs": [],
   "source": [
    "# Given probabilities\n",
    "P_A = 0.8\n",
    "P_B_given_A = 0.05\n",
    "P_B_given_not_A = 0.1\n",
    "\n",
    "# Calculate P(not A)\n",
    "P_not_A = 1 - P_A\n",
    "\n",
    "# Calculate P(B)\n",
    "P_B = P_B_given_A * P_A + P_B_given_not_A * P_not_A\n",
    "\n",
    "# Calculate P(A|B) using Bayes' theorem\n",
    "P_A_given_B = (P_B_given_A * P_A) / P_B\n",
    "\n",
    "# Display the result\n",
    "print(f\"The probability that a randomly selected late taxi belongs to Company A is: {P_A_given_B:.2f}\")"
   ]
  },
  {
   "cell_type": "markdown",
   "id": "db0bba90-2f04-49ef-b4d7-b316ce28d432",
   "metadata": {},
   "source": [
    "Q-6. A pharmaceutical company is developing a drug that is supposed to reduce blood pressure. They conduct a clinical trial with 100 patients and record their blood pressure before and after taking the drug. The company wants to know if the change in blood pressure follows a normal distribution. https://drive.google.com/file/d/1mCjtYHiX--mMUjicuaP2gH3k-SnFxt8Y/view?usp=share"
   ]
  },
  {
   "cell_type": "code",
   "execution_count": null,
   "id": "1d48eee1-2bd4-468f-9ef9-141d0ee98396",
   "metadata": {},
   "outputs": [],
   "source": [
    "\n",
    "blood_pressure_changes = data\n",
    "# Perform Shapiro-Wilk test for normality\n",
    "statistic, p_value = stats.shapiro(blood_pressure_changes)\n",
    "\n",
    "alpha = 0.05  # Set the significance level\n",
    "\n",
    "print(f\"Shapiro-Wilk Test - p-value: {p_value:.4f}\")\n",
    "\n",
    "if p_value > alpha:\n",
    "    print(\"The blood pressure changes follow a normal distribution.\")\n",
    "else:\n",
    "    print(\"The blood pressure changes do not follow a normal distribution.\")"
   ]
  },
  {
   "cell_type": "markdown",
   "id": "e7c65e2b-1025-41cb-baf9-cbf24c3fb70b",
   "metadata": {},
   "source": [
    "Q-8. The anxiety levels of 10 participants were measured before and after a new therapy. The scores are not normally distributed. Use the Wilcoxon signed-rank test to test whether the therapy had a significant effect on anxiety levels. The data is given below: Participant Before therapy After therapy Difference"
   ]
  },
  {
   "cell_type": "code",
   "execution_count": null,
   "id": "98e8da2a-3c95-4d8b-8107-881db304f977",
   "metadata": {},
   "outputs": [],
   "source": [
    "before_therapy = [10,8,12,15,6,9,11,7,14,10]  # List of anxiety levels before therapy\n",
    "after_therapy = [7,6,10,12,5,8,9,6,12,8]  # List of anxiety levels after therapy\n",
    "statistic, p_value = stats.wilcoxon(before_therapy, after_therapy)\n",
    "alpha = 0.05\n",
    "\n",
    "if p_value < alpha:\n",
    "    print(\"The therapy had a significant effect on anxiety levels.\")\n",
    "else:\n",
    "    print(\"There was no significant effect of the therapy on anxiety levels.\")"
   ]
  },
  {
   "cell_type": "markdown",
   "id": "80dbe42b-31b8-4e95-adff-febb00332419",
   "metadata": {},
   "source": [
    "Q-9. Given the score of students in multiple exams Test the hypothesis that the mean scores of all the students are the same. If not, name the student with the highest score."
   ]
  },
  {
   "cell_type": "code",
   "execution_count": null,
   "id": "eb6fad1a-86aa-42cc-bcab-2f97c9e5cc97",
   "metadata": {},
   "outputs": [],
   "source": [
    "# Prepare the data\n",
    "exam1_scores = [85,70,90,75,95]  # Scores of students in Exam 1\n",
    "exam2_scores = [90,80,85,70,92]  # Scores of students in Exam 2\n",
    "\n",
    "# Perform one-way ANOVA\n",
    "f_statistic, p_value = stats.f_oneway(exam1_scores, exam2_scores)\n",
    "\n",
    "alpha = 0.05  # Set the significance level\n",
    "\n",
    "# Check if the null hypothesis is rejected or not\n",
    "if p_value < alpha:\n",
    "    print(\"The mean scores of the students are not the same.\")\n",
    "    \n",
    "    # Find the student with the highest score\n",
    "    all_scores = exam1_scores + exam2_scores \n",
    "    highest_score = max(all_scores)\n",
    "    \n",
    "    # Find the student(s) with the highest score\n",
    "    highest_scoring_students = [i + 1 for i, score in enumerate(all_scores) if score == highest_score]\n",
    "    print(f\"The student(s) with the highest score is/are: {highest_scoring_students}\")\n",
    "    \n",
    "else:\n",
    "    print(\"The mean scores of the students are the same.\")"
   ]
  },
  {
   "cell_type": "markdown",
   "id": "dedd5acd-d547-440b-a237-b0b4813e82f6",
   "metadata": {},
   "source": [
    "Q-10. A factory produces light bulbs, and the probability of a bulb being defective is 0.05. The factory produces a large batch of 500 light bulbs. a. What is the probability that exactly 20 bulbs are defective? b. What is the probability that at least 10 bulbs are defective? c. What is the probability that at max 15 bulbs are defective? d. On average, how many defective bulbs would you expect in a batch of 500"
   ]
  },
  {
   "cell_type": "code",
   "execution_count": null,
   "id": "99f1548c-6da3-43dd-8d39-a214b6d230fc",
   "metadata": {},
   "outputs": [],
   "source": [
    "import scipy.stats as stats\n",
    "\n",
    "total_bulbs = 500\n",
    "probability_defective = 0.05\n",
    "\n",
    "# a. Probability of exactly 20 bulbs being defective\n",
    "k = 20\n",
    "p_20_defective = stats.binom.pmf(k, total_bulbs, probability_defective)\n",
    "print(f\"The probability that exactly 20 bulbs are defective: {p_20_defective:.4f}\")\n",
    "\n",
    "# b. Probability of at least 10 bulbs being defective\n",
    "k_min = 10\n",
    "p_at_least_10_defective = 1 - stats.binom.cdf(k_min - 1, total_bulbs, probability_defective)\n",
    "print(f\"The probability that at least 10 bulbs are defective: {p_at_least_10_defective:.4f}\")\n",
    "\n",
    "# c. Probability of at most 15 bulbs being defective\n",
    "k_max = 15\n",
    "p_at_most_15_defective = stats.binom.cdf(k_max, total_bulbs, probability_defective)\n",
    "print(f\"The probability that at most 15 bulbs are defective: {p_at_most_15_defective:.4f}\")\n",
    "\n",
    "# d. Expected number of defective bulbs in a batch of 500\n",
    "expected_defective_bulbs = total_bulbs * probability_defective\n",
    "print(f\"On average, you would expect {expected_defective_bulbs:.2f} defective bulbs in a batch of 500.\")"
   ]
  },
  {
   "cell_type": "markdown",
   "id": "2685a9dc-810f-480f-b4d0-5841876e1b66",
   "metadata": {},
   "source": [
    "Q-11. Given the data of a feature contributing to different classes https://drive.google.com/file/d/1mCjtYHiX--mMUjicuaP2gH3k-SnFxt8Y/view?usp =share_ a. Check whether the distribution of all the classes are the same or not. b. Check for the equality of variance/ c. Which amount LDA and QDA would perform better on this data for classification and why. d. Check the equality of mean for between all the classes."
   ]
  },
  {
   "cell_type": "code",
   "execution_count": null,
   "id": "c4d410f5-17d6-4d4c-8ad7-582d5fe2fbb2",
   "metadata": {},
   "outputs": [],
   "source": [
    "import seaborn as sns\n",
    "sns.histplot(data)"
   ]
  },
  {
   "cell_type": "markdown",
   "id": "5e2a47ae-71f9-4681-a28f-6e0cb68e2c97",
   "metadata": {},
   "source": [
    "Q-12. A pharmaceutical company develops a new drug and wants to compare its effectiveness against a standard drug for treating a particular condition. They conduct a study with two groups: Group A receives the new drug, and Group B receives the standard drug. The company measures the improvement in a specific symptom for both groups after a 4-week treatment period. a. The company collects data from 30 patients in each group and calculates the mean improvement score and the standard deviation of improvement for each group. The mean improvement score for Group A is 2.5 with a standard deviation of 0.8, while the mean improvement score for Group B is 2.2 with a standard deviation of 0.6. Conduct a t-test to determine if there is a significant difference in the mean improvement scores between the two groups. Use a significance level of 0.05. b. Based on the t-test results, state whether the null hypothesis should be rejected or not. Provide a conclusion in the context of the study."
   ]
  },
  {
   "cell_type": "code",
   "execution_count": null,
   "id": "40e3d7e0-cf3d-4f23-b43f-ad1003f34461",
   "metadata": {},
   "outputs": [],
   "source": [
    "# Define the sample statistics for Group A\n",
    "mean_a = 2.5\n",
    "std_a = 0.8\n",
    "n_a = 30\n",
    "\n",
    "# Define the sample statistics for Group B\n",
    "mean_b = 2.2\n",
    "std_b = 0.6\n",
    "n_b = 30\n",
    "\n",
    "# Calculate the t-statistic and p-value for the two-sample independent t-test\n",
    "t_statistic, p_value = stats.ttest_ind_from_stats(mean_a, std_a, n_a, mean_b, std_b, n_b)\n",
    "\n",
    "# Compare the p-value to the significance level\n",
    "alpha = 0.05\n",
    "\n",
    "if p_value < alpha:\n",
    "    print(\"Reject the null hypothesis.\")\n",
    "    print(\"There is a significant difference in the mean improvement scores between Group A and Group B.\")\n",
    "else:\n",
    "    print(\"Fail to reject the null hypothesis.\")\n",
    "    print(\"There is no significant difference in the mean improvement scores between Group A and Group B.\")"
   ]
  },
  {
   "cell_type": "code",
   "execution_count": null,
   "id": "cbc03513-41b2-4097-a9de-e995b0b09f8b",
   "metadata": {},
   "outputs": [],
   "source": []
  },
  {
   "cell_type": "code",
   "execution_count": null,
   "id": "e71df4f8-8261-4042-9335-4e9897fc2fb9",
   "metadata": {},
   "outputs": [],
   "source": []
  }
 ],
 "metadata": {
  "kernelspec": {
   "display_name": "Python 3 (ipykernel)",
   "language": "python",
   "name": "python3"
  },
  "language_info": {
   "codemirror_mode": {
    "name": "ipython",
    "version": 3
   },
   "file_extension": ".py",
   "mimetype": "text/x-python",
   "name": "python",
   "nbconvert_exporter": "python",
   "pygments_lexer": "ipython3",
   "version": "3.10.6"
  }
 },
 "nbformat": 4,
 "nbformat_minor": 5
}
